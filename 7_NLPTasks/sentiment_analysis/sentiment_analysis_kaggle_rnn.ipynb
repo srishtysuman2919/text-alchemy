{
 "cells": [
  {
   "cell_type": "code",
   "execution_count": 2,
   "metadata": {},
   "outputs": [],
   "source": [
    "import pandas as pd\n",
    "import numpy as np\n",
    "import re\n",
    "from nltk.corpus import stopwords\n",
    "from torch.utils.data import Dataset\n",
    "import torch\n",
    "import torch.nn as nn\n",
    "from torch.nn.modules import dropout\n",
    "from torch.nn.utils.rnn import pad_sequence, pad_packed_sequence, pack_padded_sequence\n",
    "import torch.nn.functional as F\n",
    "pd.set_option('display.max_rows', 500)\n",
    "pd.set_option('display.width', 1000)"
   ]
  },
  {
   "cell_type": "code",
   "execution_count": 57,
   "metadata": {},
   "outputs": [
    {
     "name": "stdout",
     "output_type": "stream",
     "text": [
      "3522\n",
      "last session of  day  httptwitpiccomezh\n",
      "[228, 3303, 229, 0]\n",
      "1\n"
     ]
    }
   ],
   "source": [
    "train_df=pd.read_csv(\"/Users/srishtysuman/PycharmProjects/NaturalLanguageProcessing/sentiment_analysis_data/train.csv\", encoding='latin1')\n",
    "test_df=pd.read_csv(\"/Users/srishtysuman/PycharmProjects/NaturalLanguageProcessing/sentiment_analysis_data/test.csv\", encoding='latin1')\n",
    "\n",
    "# 1. get only relevant columns as train_df and test_df\n",
    "train_df=train_df[['text', 'sentiment']].dropna()\n",
    "test_df=test_df[['text', 'sentiment']].dropna()\n",
    "\n",
    "# 2. for sentiment, give binary labels\n",
    "def binary_labels(label):\n",
    "    if label==\"positive\":\n",
    "        return 2\n",
    "    elif label==\"neutral\":\n",
    "        return 1\n",
    "    else:\n",
    "        return 0\n",
    "train_df[\"sentiment\"]=train_df[\"sentiment\"].apply(binary_labels)\n",
    "test_df[\"sentiment\"]=test_df[\"sentiment\"].apply(binary_labels)\n",
    "test_df\n",
    "\n",
    "def clean_text(text):\n",
    "    if type(text)!=str or pd.isnull(text) or text=='':\n",
    "        return ''\n",
    "    text=text.lower()   \n",
    "    link_re_pattern = \"https?:\\/\\/t.co/[\\w]+\"\n",
    "    text=re.sub(link_re_pattern, '', text)\n",
    "    text=re.sub(\"\\`have\", 'have', text)   \n",
    "    text=re.sub(\"\\`ve\", ' have', text)   \n",
    "    text = text.lower()\n",
    "    text = re.sub(\"\\'s\", \" \", text) \n",
    "    text = re.sub(\" whats \", \" what is \", text, flags=re.IGNORECASE)\n",
    "    text = re.sub(\"can't\", \"can not\", text)\n",
    "    text = re.sub(\"n't\", \" not \", text)\n",
    "    text = re.sub(\"i'm\", \"i am\", text, flags=re.IGNORECASE)\n",
    "    text = re.sub(\"\\'re\", \" are \", text)\n",
    "    text = re.sub(\"\\'d\", \" would \", text)\n",
    "    text = re.sub(\"\\'ll\", \" will \", text)\n",
    "    text = re.sub(\"e\\.g\\.\", \" eg \", text, flags=re.IGNORECASE)\n",
    "    text = re.sub(\"b\\.g\\.\", \" bg \", text, flags=re.IGNORECASE)\n",
    "    text = re.sub(\"(\\d+)(kK)\", \" \\g<1>000 \", text)\n",
    "    text = re.sub(\"e-mail\", \" email \", text, flags=re.IGNORECASE)\n",
    "    text = re.sub(\"(the[\\s]+|The[\\s]+)?U\\.S\\.A\\.\", \" America \", text, flags=re.IGNORECASE)\n",
    "    text = re.sub(\"(the[\\s]+|The[\\s]+)?United State(s)?\", \" America \", text, flags=re.IGNORECASE)\n",
    "    text = re.sub(\"\\(s\\)\", \" \", text, flags=re.IGNORECASE)\n",
    "    text = re.sub(\"[c-fC-F]\\:\\/\", \" disk \", text)\n",
    "    text = re.sub('(?<=[0-9])\\,(?=[0-9])', \"\", text)\n",
    "    text = re.sub('\\$', \" dollar \", text)\n",
    "    text = re.sub('\\%', \" percent \", text)\n",
    "    text = re.sub('\\&', \" and \", text)\n",
    "    text = re.sub(r\" u s \", \" american \", text)\n",
    "    text = re.sub(r\"\\0s\", \"0\", text)\n",
    "    text = re.sub(r\" 9 11 \", \"911\", text)\n",
    "    text = re.sub(r'\\d+', '',text)\n",
    "    text = re.sub('(\\\\b[A-Za-z] \\\\b|\\\\b [A-Za-z]\\\\b)', '', text)\n",
    "    text = text.replace(\"?\",\"\")\n",
    "    text = text.replace(\"(\",\"\")\n",
    "    text = text.replace(\")\",\"\")\n",
    "    text = text.replace('\"',\"\")\n",
    "    text = text.replace(\",\",\"\")\n",
    "    text = text.replace(\"#\",\"\")   \n",
    "    text = text.replace(\"-\",\"\")    \n",
    "    text = text.replace(\"..\",\"\")\n",
    "    text = text.replace(\"/\",\"\")\n",
    "    text = text.replace(\"\\\\\",\"\")\n",
    "    text = text.replace(\":\",\"\")\n",
    "    text = text.replace(\"the\",\"\") \n",
    "    text=re.sub(r'[^\\w\\s]','',text)\n",
    "    text=re.sub(\"(.)\\\\1{2,}\", \"\\\\1\", text)\n",
    "    text=re.sub(\"ii\", \"i\", text)\n",
    "    text=re.sub(\"_\", \"\", text)\n",
    "    text=re.sub(\"^http\", \"\", text) \n",
    "    return text    \n",
    "    \n",
    "train_df[\"text\"]=train_df[\"text\"].apply(clean_text)\n",
    "test_df[\"text\"]=test_df[\"text\"].apply(clean_text)\n",
    "\n",
    "train_df.dropna(inplace=True)\n",
    "test_df.dropna(inplace=True)\n",
    "\n",
    "def tokenize(df, test_df):\n",
    "    word_to_index=dict()\n",
    "    index_to_word=['<unk>']\n",
    "    stopword=stopwords.words('english')\n",
    "    count=0\n",
    "    tokenize_column=[]\n",
    "    for index, row in df.iterrows():\n",
    "        text=row[\"text\"]\n",
    "        words=[word for word in text.split()]\n",
    "        token_list=[]\n",
    "        for word in words:\n",
    "            if word in stopword:\n",
    "                continue\n",
    "            if word not in word_to_index:\n",
    "                count+=1\n",
    "                word_to_index[word]=count\n",
    "                index_to_word.append(count)\n",
    "            token_list.append(word_to_index[word])\n",
    "        tokenize_column.append(token_list)\n",
    "    df[\"text_map\"]=tokenize_column\n",
    "\n",
    "    tokenize_column=[]\n",
    "    for index, row in test_df.iterrows():\n",
    "        text=row[\"text\"]\n",
    "        words=[word for word in text.split()]\n",
    "        token_list=[]\n",
    "        for word in words:\n",
    "            if word in stopword:\n",
    "                continue\n",
    "            if word not in word_to_index:\n",
    "                token_list.append(0)\n",
    "            else:\n",
    "                token_list.append(word_to_index[word])\n",
    "        tokenize_column.append(token_list)\n",
    "    test_df[\"text_map\"]=tokenize_column    \n",
    "    return df, test_df, word_to_index, index_to_word\n",
    "\n",
    "train_df, test_df, word_to_index, index_to_word = tokenize(train_df, test_df)\n",
    "\n",
    "test_df = test_df[test_df['text_map'].apply(lambda x: len(x) > 0)].reset_index(drop=True)\n",
    "train_df = train_df[train_df['text_map'].apply(lambda x: len(x) > 0)].reset_index(drop=True)\n",
    "\n",
    "class TextDataloader(Dataset):\n",
    "    def __init__(self, text_list, text_map, labels):\n",
    "        \"\"\"\n",
    "        Params:\n",
    "        -------\n",
    "        test : list\n",
    "               list with tuples of all the texts\n",
    "        \n",
    "        word2index : dict\n",
    "                     vocbulary of the dataset\n",
    "        labels : list \n",
    "                 list of the corrsponding labels to the question pairs \n",
    "        \n",
    "        \"\"\"\n",
    "        self.text_list = text_list\n",
    "        self.text_map = text_map\n",
    "        self.labels = labels\n",
    "        \n",
    "    def __len__(self):\n",
    "        return len(self.text_list)\n",
    "    \n",
    "    def __getitem__(self, index):\n",
    "        text_map = self.text_map[index]\n",
    "        text = self.text_list[index]\n",
    "        text=\"\".join(word for word in text)\n",
    "            \n",
    "        # q1_indices and q2_indices are lists of indices against words used in the sentence \n",
    "        return {\n",
    "            'text': text,\n",
    "            'text_map': text_map, \n",
    "            'labels': self.labels[index], \n",
    "        }\n",
    "    \n",
    "def data_to_tuple(df):\n",
    "    text=df[\"text\"].tolist()\n",
    "    text_map=df[\"text_map\"].tolist()\n",
    "    labels=df[\"sentiment\"].tolist()\n",
    "    return text, text_map, labels\n",
    "\n",
    "train_text, train_text_map, train_labels=data_to_tuple(train_df)\n",
    "test_text, test_text_map, test_labels=data_to_tuple(test_df)\n",
    "\n",
    "train_dataset=TextDataloader(train_text, train_text_map, train_labels)\n",
    "test_dataset=TextDataloader(test_text, test_text_map, test_labels)\n",
    "\n",
    "print(len(test_dataset))\n",
    "for sample in test_dataset:\n",
    "    print(sample[\"text\"])\n",
    "    print(sample[\"text_map\"])\n",
    "    print(sample[\"labels\"])   \n",
    "    break\n",
    "\n",
    "def collate_fn(batch):\n",
    "    text = []\n",
    "    text_map = []\n",
    "    labels = []\n",
    "    for item in batch:\n",
    "        text.append(item['text'])\n",
    "        text_map.append(item['text_map'])\n",
    "        labels.append(item['labels'])\n",
    "          \n",
    "        \n",
    "    text_lengths = [len(q) for q in text_map]\n",
    "\n",
    "    sorted_indices=np.flipud(np.argsort(text_lengths))\n",
    "    lengths=np.flipud(np.sort(text_lengths))\n",
    "    lengths = lengths.copy()\n",
    "\n",
    "    sorted_text = [text[i] for i in sorted_indices]\n",
    "    sorted_texts_map = [torch.LongTensor(text_map[i]).to('cpu') for i in sorted_indices]\n",
    "    sorted_labels = [labels[i] for i in sorted_indices]\n",
    "\n",
    "    sorted_texts_map = pad_sequence(sorted_texts_map, batch_first=True)    \n",
    "\n",
    "    return {\n",
    "        'text': sorted_text,\n",
    "        'text_map': sorted_texts_map, \n",
    "        'text_lengths': lengths,\n",
    "        'labels': sorted_labels\n",
    "    }\n",
    "\n",
    "train_dataloader=torch.utils.data.DataLoader(train_dataset, batch_size=512, collate_fn=collate_fn)\n",
    "test_dataloader=torch.utils.data.DataLoader(test_dataset, batch_size=512, collate_fn=collate_fn)\n",
    "\n",
    "embedding_dim=300\n",
    "embeddings=torch.randn(len(index_to_word), 300)\n",
    "embeddings[0] = torch.zeros(embedding_dim)\n",
    "\n"
   ]
  },
  {
   "cell_type": "code",
   "execution_count": 87,
   "metadata": {},
   "outputs": [
    {
     "name": "stdout",
     "output_type": "stream",
     "text": [
      "<bound method Module.parameters of EmbeddingLSTMNet(\n",
      "  (embedding): Embedding(30071, 300)\n",
      "  (dropout): Dropout(p=0.0, inplace=False)\n",
      "  (lstm): LSTM(300, 100, batch_first=True)\n",
      "  (fc1): Linear(in_features=100, out_features=100, bias=True)\n",
      "  (relu1): ReLU()\n",
      "  (batch_norm1): BatchNorm1d(100, eps=1e-05, momentum=0.1, affine=True, track_running_stats=True)\n",
      "  (fc2): Linear(in_features=100, out_features=3, bias=True)\n",
      "  (final_softmax): Softmax(dim=None)\n",
      "  (final_layer): Sigmoid()\n",
      ")>\n",
      "epoch 0\n"
     ]
    },
    {
     "name": "stderr",
     "output_type": "stream",
     "text": [
      "/var/folders/g9/56rlvw7s6w54xn7rhdmb0qlw0000gn/T/ipykernel_31141/3434457365.py:64: UserWarning: To copy construct from a tensor, it is recommended to use sourceTensor.clone().detach() or sourceTensor.clone().detach().requires_grad_(True), rather than torch.tensor(sourceTensor).\n",
      "  correct = (torch.tensor(y_pred_class) == torch.tensor(y)).sum().item()\n"
     ]
    },
    {
     "name": "stdout",
     "output_type": "stream",
     "text": [
      "epoch 1\n",
      "epoch 2\n",
      "epoch 3\n",
      "epoch 4\n",
      "epoch 5\n",
      "epoch 6\n",
      "epoch 7\n",
      "epoch 8\n",
      "epoch 9\n",
      "epoch 10\n",
      "epoch 11\n",
      "epoch 12\n",
      "epoch 13\n",
      "epoch 14\n",
      "[0.5965868532657623, 0.395396729586301, 0.4549252876528987, 0.38046950929694706, 0.27709905913582555, 0.22455623939081473, 0.17316210352712208, 0.1444319432808293, 0.11951927150841113, 0.10644948192768627, 0.09420160059299734, 0.08760562125179502, 0.08123707864433527, 0.07674567539382864, 0.07641350615907598]\n"
     ]
    }
   ],
   "source": [
    "class EmbeddingLSTMNet(nn.Module):\n",
    "    def __init__(self, embedding_dim, hidden_cells, num_layers, embedding_grad, embeddings, dropout, num_classes):\n",
    "        super(EmbeddingLSTMNet, self).__init__()\n",
    "        self.device='cpu'\n",
    "        self.embedding=nn.Embedding.from_pretrained(embeddings)\n",
    "        self.embedding.weight.requires_grad=embedding_grad\n",
    "        self.dropout=nn.Dropout(dropout)\n",
    "\n",
    "        self.lstm=nn.LSTM(input_size=embedding_dim, hidden_size=hidden_cells, num_layers=num_layers, batch_first=True)\n",
    "        self.fc1=nn.Linear(hidden_cells, hidden_cells)\n",
    "        self.relu1=nn.ReLU()      \n",
    "        self.batch_norm1=nn.BatchNorm1d(hidden_cells)\n",
    "\n",
    "        self.fc2=nn.Linear(hidden_cells, num_classes)        \n",
    "        self.final_softmax=nn.Softmax()\n",
    "        self.final_layer=nn.Sigmoid()\n",
    "\n",
    "        self.hidden_cells=hidden_cells\n",
    "\n",
    "    \n",
    "    def forward(self, texts, texts_map, lengths):\n",
    "        embeddings=self.embedding(texts_map).to(self.device)\n",
    "        embeddings=self.dropout(embeddings)\n",
    "\n",
    "        packed=pack_padded_sequence(embeddings, lengths, batch_first=True )\n",
    "        out, (hn, cn) = self.lstm(packed)\n",
    "\n",
    "        out = self.fc2(self.relu1(self.fc1(hn)))\n",
    "        # print(out.shape)\n",
    "        return out[0]\n",
    "\n",
    "model = EmbeddingLSTMNet(embedding_dim=300, hidden_cells=100, num_layers=1, embedding_grad=True, embeddings=embeddings, dropout=0.0, num_classes=3)\n",
    "print(model.parameters)\n",
    "\n",
    "loss_history=[]\n",
    "for epoch in range(15):\n",
    "    print(\"epoch\", epoch)\n",
    "    optimizer=torch.optim.Adam(model.parameters(), lr=0.001)\n",
    "    losses=[]\n",
    "    for i, batch in enumerate(train_dataloader):\n",
    "        # print(\"epoch, i\", epoch, i)\n",
    "        text_map, text_lengths = batch['text_map'], batch['text_lengths']\n",
    "        y = torch.tensor(batch['labels'])\n",
    "        y_pred = model(batch[\"text\"], text_map, text_lengths)\n",
    "        loss=nn.CrossEntropyLoss()(y_pred, y)\n",
    "        # print(y_pred.shape, y.shape)\n",
    "        # print(y_pred)\n",
    "        y_pred_class=[]\n",
    "        for list in y_pred:\n",
    "            y_pred_class.append(torch.argmax(list).detach().numpy().item())   \n",
    "        correct = (torch.tensor(y_pred_class) == torch.tensor(y)).sum().item()\n",
    "        \n",
    "        # print(loss)\n",
    "        loss.backward()\n",
    "        optimizer.step()\n",
    "        losses.append(loss.item())\n",
    "    loss_history.append(sum(losses)/len(losses))\n",
    "print(loss_history)\n",
    "    # print(y_pred)\n"
   ]
  },
  {
   "cell_type": "code",
   "execution_count": null,
   "metadata": {},
   "outputs": [],
   "source": [
    "from sklearn.metrics import confusion_matrix\n",
    "import seaborn as sns\n",
    "def plotConfusionMatrix(y, y_pred, classes, title=None):\n",
    "    \"\"\" Plots a confusion matrix \"\"\"\n",
    "    cm = confusion_matrix(y, y_pred)\n",
    "    ax = sns.heatmap(cm, xticklabels=classes, yticklabels=classes, annot=True, fmt='0.2g', cmap=plt.cm.Blues)\n",
    "    bottom, top = ax.get_ylim()\n",
    "    ax.set_ylim(bottom + 0.5, top - 0.5)\n",
    "    if title:\n",
    "        ax.set_title(title)\n",
    "    ax.set_xlabel('Predictions')\n",
    "    ax.set_ylabel('Test Set')\n",
    "    plt.show()\n",
    "\n",
    "    return cm"
   ]
  },
  {
   "cell_type": "code",
   "execution_count": 61,
   "metadata": {},
   "outputs": [
    {
     "data": {
      "image/png": "[encoded data removed]",
      "text/plain": [
       "<Figure size 640x480 with 1 Axes>"
      ]
     },
     "metadata": {},
     "output_type": "display_data"
    }
   ],
   "source": [
    "import matplotlib.pyplot as plt \n",
    "# loss_history=[loss.detach().numpy() for loss in loss_history]\n",
    "loss_history=[float(item) for item in loss_history]\n",
    "loss_history\n",
    "plt.plot(np.arange(len(loss_history)), loss_history)\n",
    "plt.show()"
   ]
  },
  {
   "cell_type": "code",
   "execution_count": null,
   "metadata": {},
   "outputs": [
    {
     "name": "stdout",
     "output_type": "stream",
     "text": [
      "tensor([[-1.3271, -0.6992, -0.6135, -0.5116,  1.3618],\n",
      "        [ 0.9106,  0.7923,  1.3120, -0.3339, -0.8360],\n",
      "        [ 0.8367,  0.6636,  0.4023,  0.3431,  1.3383]], requires_grad=True) tensor([2, 2, 1])\n"
     ]
    }
   ],
   "source": [
    "# Example of target with class indices\n",
    "loss = nn.CrossEntropyLoss()\n",
    "input = torch.randn(32, 5, requires_grad=True)\n",
    "target = torch.empty(3, dtype=torch.long).random_(5)\n",
    "output = loss(input, target)\n",
    "print(input, target)\n",
    "\n",
    "# Example of target with class probabilities\n",
    "loss = nn.CrossEntropyLoss()\n",
    "input = torch.randn(3, 5, requires_grad=True)\n",
    "target = torch.randn(3, 5).softmax(dim=1)\n",
    "print(input)\n",
    "print(target)\n",
    "output = loss(input, target)"
   ]
  },
  {
   "cell_type": "code",
   "execution_count": null,
   "metadata": {},
   "outputs": [
    {
     "data": {
      "text/plain": [
       "tensor([[[-0.0690, -0.1981,  0.0882,  0.0168,  0.1063],\n",
       "         [-0.0700, -0.1991,  0.0864,  0.0170,  0.1076],\n",
       "         [-0.0684, -0.1978,  0.0885,  0.0155,  0.1068],\n",
       "         [-0.0685, -0.1983,  0.0898,  0.0200,  0.1058],\n",
       "         [-0.0686, -0.1976,  0.0888,  0.0157,  0.1065]],\n",
       "\n",
       "        [[-0.0860, -0.2672,  0.0769,  0.0436,  0.1575],\n",
       "         [-0.0899, -0.2674,  0.0725,  0.0408,  0.1594],\n",
       "         [-0.0910, -0.2668,  0.0725,  0.0391,  0.1605],\n",
       "         [-0.0886, -0.2669,  0.0772,  0.0452,  0.1575],\n",
       "         [-0.0862, -0.2662,  0.0790,  0.0427,  0.1570]]],\n",
       "       grad_fn=<MkldnnRnnLayerBackward0>)"
      ]
     },
     "execution_count": 115,
     "metadata": {},
     "output_type": "execute_result"
    }
   ],
   "source": [
    "rnn = nn.LSTM(2, 5, 3)\n",
    "input = torch.randn(2, 5, 3)\n",
    "output, (hn, cn) = rnn(input)\n",
    "output\n"
   ]
  },
  {
   "cell_type": "code",
   "execution_count": null,
   "metadata": {},
   "outputs": [
    {
     "data": {
      "text/plain": [
       "tensor([[ 1.6558, -0.2022, -1.3979,  0.6183],\n",
       "        [ 0.5952,  0.8823,  0.4729, -0.2189],\n",
       "        [ 0.4236,  0.0769, -0.5062,  0.0403],\n",
       "        [ 2.0873,  0.7553, -1.0960, -0.2279]])"
      ]
     },
     "execution_count": 67,
     "metadata": {},
     "output_type": "execute_result"
    }
   ],
   "source": [
    "x = torch.randn(4, 4)\n",
    "x"
   ]
  },
  {
   "cell_type": "code",
   "execution_count": null,
   "metadata": {},
   "outputs": [
    {
     "data": {
      "text/plain": [
       "tensor([ 1.6558, -0.2022, -1.3979,  0.6183,  0.5952,  0.8823,  0.4729, -0.2189,\n",
       "         0.4236,  0.0769, -0.5062,  0.0403,  2.0873,  0.7553, -1.0960, -0.2279])"
      ]
     },
     "execution_count": 68,
     "metadata": {},
     "output_type": "execute_result"
    }
   ],
   "source": [
    "x.view(16)"
   ]
  },
  {
   "cell_type": "code",
   "execution_count": null,
   "metadata": {},
   "outputs": [
    {
     "data": {
      "text/plain": [
       "tensor([ 0.6183, -0.2189,  0.0403, -0.2279])"
      ]
     },
     "execution_count": 71,
     "metadata": {},
     "output_type": "execute_result"
    }
   ],
   "source": [
    "x.view(len(x), -1)[:, -1]"
   ]
  },
  {
   "cell_type": "code",
   "execution_count": null,
   "metadata": {},
   "outputs": [],
   "source": []
  },
  {
   "cell_type": "code",
   "execution_count": null,
   "metadata": {},
   "outputs": [],
   "source": []
  },
  {
   "cell_type": "code",
   "execution_count": null,
   "metadata": {},
   "outputs": [],
   "source": []
  }
 ],
 "metadata": {
  "kernelspec": {
   "display_name": "pytorch",
   "language": "python",
   "name": "python3"
  },
  "language_info": {
   "codemirror_mode": {
    "name": "ipython",
    "version": 3
   },
   "file_extension": ".py",
   "mimetype": "text/x-python",
   "name": "python",
   "nbconvert_exporter": "python",
   "pygments_lexer": "ipython3",
   "version": "3.11.7"
  }
 },
 "nbformat": 4,
 "nbformat_minor": 2
}
